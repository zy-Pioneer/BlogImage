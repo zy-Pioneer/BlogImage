{
 "cells": [
  {
   "cell_type": "code",
   "execution_count": null,
   "metadata": {},
   "outputs": [],
   "source": [
    "import csv\n",
    "import networkx as nx\n",
    "import json\n",
    "\n",
    "# 在图中添加节点\n",
    "def add_node(G, node_id, node_type, node_attributes):\n",
    "    if node_type == 'image' or node_type == 'registry' or node_type == 'remote_thread':\n",
    "        return False\n",
    "    elif node_type == 'process':\n",
    "        # node_attributes是一个json字符串，将其转换为字典\n",
    "        attributes = json.loads(node_attributes)\n",
    "        process_path = attributes['filepath']\n",
    "        G.add_node(node_id, type=node_type, filepath=process_path)\n",
    "    elif node_type == 'file':\n",
    "        attributes = json.loads(node_attributes)\n",
    "        file_path = attributes['file_path']\n",
    "        G.add_node(node_id, type=node_type, file_path=file_path)\n",
    "    elif node_type == 'dns':\n",
    "        attributes = json.loads(node_attributes)\n",
    "        dns_ip = attributes['dst_ip']\n",
    "        G.add_node(node_id, type=node_type, query=dns_ip)\n",
    "    elif node_type == 'netstat':\n",
    "        attributes = json.loads(node_attributes)\n",
    "        net_path = attributes['net_path']\n",
    "        G.add_node(node_id, type=node_type, remote_ip=net_path)\n",
    "    return True\n",
    "\n",
    "# 打开并读取CSV文件\n",
    "def read_csv():\n",
    "    G = nx.DiGraph()\n",
    "    file_path = r'.\\test_1.csv'\n",
    "    with open(file_path, mode='r', encoding='utf-8-sig') as file:\n",
    "        reader = csv.DictReader(file)\n",
    "        # 忽略表头\n",
    "        # next(reader)\n",
    "        for row in list(reader)[:2]:\n",
    "            # print(row)\n",
    "            # 添加节点a\n",
    "            a_neg = add_node(G, row['a_id'], row['a_node_type'], row['a_node_attributes'])\n",
    "            \n",
    "            # 添加节点b\n",
    "            b_neg = add_node(G, row['b_id'], row['b_node_type'], row['b_node_attributes'])\n",
    "            \n",
    "            if a_neg and b_neg:\n",
    "                # 添加边\n",
    "                G.add_edge(row['a_id'], row['b_id'], edge_type=row['edge_type'], timestamp=row['gmt_create'])\n",
    "    return G\n",
    "\n",
    "    # # 现在你已经构建了图，你可以检查图的信息：\n",
    "    # print(\"Nodes:\", G.nodes(data=True))\n",
    "    # print(\"Edges:\", G.edges(data=True))\n"
   ]
  },
  {
   "cell_type": "code",
   "execution_count": null,
   "metadata": {},
   "outputs": [],
   "source": [
    "G = read_csv()\n",
    "print(G.nodes(data=True))\n",
    "print(G.edges(data=True))"
   ]
  }
 ],
 "metadata": {
  "kernelspec": {
   "display_name": "venv",
   "language": "python",
   "name": "python3"
  },
  "language_info": {
   "name": "python",
   "version": "3.10.9"
  }
 },
 "nbformat": 4,
 "nbformat_minor": 2
}
